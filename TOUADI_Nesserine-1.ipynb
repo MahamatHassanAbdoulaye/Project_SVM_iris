{
  "nbformat": 4,
  "nbformat_minor": 0,
  "metadata": {
    "colab": {
      "provenance": [],
      "collapsed_sections": [
        "-bqSHl6X4EKk",
        "nzE771T5bDUP",
        "LI_HOzczjT2N",
        "EeN19VehVuAH",
        "RQrGX1O0WZnE",
        "gms2i9MpP0O5",
        "TvpoxlNOIsXV",
        "MvSFuOAWNHKx",
        "jtjzhwA_4EYB",
        "dZH_DnQPl0fp"
      ]
    },
    "kernelspec": {
      "name": "python3",
      "display_name": "Python 3"
    },
    "language_info": {
      "name": "python"
    }
  },
  "cells": [
    {
      "cell_type": "markdown",
      "source": [
        "# Importer les données"
      ],
      "metadata": {
        "id": "-bqSHl6X4EKk"
      }
    },
    {
      "cell_type": "code",
      "execution_count": null,
      "metadata": {
        "colab": {
          "base_uri": "https://localhost:8080/"
        },
        "id": "uNo8852Z-psx",
        "outputId": "1a29b1f0-eabb-467c-ac97-24a3855f5a64"
      },
      "outputs": [
        {
          "output_type": "execute_result",
          "data": {
            "text/plain": [
              "      Age  Blood Pressure  Blood Glucose Random  Hypertension  \\\n",
              "0    48.0            80.0                 121.0           1.0   \n",
              "1     7.0            50.0                   NaN           0.0   \n",
              "2    62.0            80.0                 423.0           0.0   \n",
              "3    48.0            70.0                 117.0           1.0   \n",
              "4    51.0            80.0                 106.0           0.0   \n",
              "..    ...             ...                   ...           ...   \n",
              "395  55.0            80.0                 140.0           0.0   \n",
              "396  42.0            70.0                  75.0           0.0   \n",
              "397  12.0            80.0                 100.0           0.0   \n",
              "398  17.0            60.0                 114.0           0.0   \n",
              "399  58.0            80.0                 131.0           0.0   \n",
              "\n",
              "     Diabetes Mellitus  Anemia  Class  \n",
              "0                  1.0     0.0      1  \n",
              "1                  0.0     0.0      1  \n",
              "2                  1.0     1.0      1  \n",
              "3                  0.0     1.0      1  \n",
              "4                  0.0     0.0      1  \n",
              "..                 ...     ...    ...  \n",
              "395                0.0     0.0      0  \n",
              "396                0.0     0.0      0  \n",
              "397                0.0     0.0      0  \n",
              "398                0.0     0.0      0  \n",
              "399                0.0     0.0      0  \n",
              "\n",
              "[400 rows x 7 columns]"
            ],
            "text/html": [
              "\n",
              "  <div id=\"df-cb0f2f74-e0c7-419d-9c4d-1b28d84397c7\">\n",
              "    <div class=\"colab-df-container\">\n",
              "      <div>\n",
              "<style scoped>\n",
              "    .dataframe tbody tr th:only-of-type {\n",
              "        vertical-align: middle;\n",
              "    }\n",
              "\n",
              "    .dataframe tbody tr th {\n",
              "        vertical-align: top;\n",
              "    }\n",
              "\n",
              "    .dataframe thead th {\n",
              "        text-align: right;\n",
              "    }\n",
              "</style>\n",
              "<table border=\"1\" class=\"dataframe\">\n",
              "  <thead>\n",
              "    <tr style=\"text-align: right;\">\n",
              "      <th></th>\n",
              "      <th>Age</th>\n",
              "      <th>Blood Pressure</th>\n",
              "      <th>Blood Glucose Random</th>\n",
              "      <th>Hypertension</th>\n",
              "      <th>Diabetes Mellitus</th>\n",
              "      <th>Anemia</th>\n",
              "      <th>Class</th>\n",
              "    </tr>\n",
              "  </thead>\n",
              "  <tbody>\n",
              "    <tr>\n",
              "      <th>0</th>\n",
              "      <td>48.0</td>\n",
              "      <td>80.0</td>\n",
              "      <td>121.0</td>\n",
              "      <td>1.0</td>\n",
              "      <td>1.0</td>\n",
              "      <td>0.0</td>\n",
              "      <td>1</td>\n",
              "    </tr>\n",
              "    <tr>\n",
              "      <th>1</th>\n",
              "      <td>7.0</td>\n",
              "      <td>50.0</td>\n",
              "      <td>NaN</td>\n",
              "      <td>0.0</td>\n",
              "      <td>0.0</td>\n",
              "      <td>0.0</td>\n",
              "      <td>1</td>\n",
              "    </tr>\n",
              "    <tr>\n",
              "      <th>2</th>\n",
              "      <td>62.0</td>\n",
              "      <td>80.0</td>\n",
              "      <td>423.0</td>\n",
              "      <td>0.0</td>\n",
              "      <td>1.0</td>\n",
              "      <td>1.0</td>\n",
              "      <td>1</td>\n",
              "    </tr>\n",
              "    <tr>\n",
              "      <th>3</th>\n",
              "      <td>48.0</td>\n",
              "      <td>70.0</td>\n",
              "      <td>117.0</td>\n",
              "      <td>1.0</td>\n",
              "      <td>0.0</td>\n",
              "      <td>1.0</td>\n",
              "      <td>1</td>\n",
              "    </tr>\n",
              "    <tr>\n",
              "      <th>4</th>\n",
              "      <td>51.0</td>\n",
              "      <td>80.0</td>\n",
              "      <td>106.0</td>\n",
              "      <td>0.0</td>\n",
              "      <td>0.0</td>\n",
              "      <td>0.0</td>\n",
              "      <td>1</td>\n",
              "    </tr>\n",
              "    <tr>\n",
              "      <th>...</th>\n",
              "      <td>...</td>\n",
              "      <td>...</td>\n",
              "      <td>...</td>\n",
              "      <td>...</td>\n",
              "      <td>...</td>\n",
              "      <td>...</td>\n",
              "      <td>...</td>\n",
              "    </tr>\n",
              "    <tr>\n",
              "      <th>395</th>\n",
              "      <td>55.0</td>\n",
              "      <td>80.0</td>\n",
              "      <td>140.0</td>\n",
              "      <td>0.0</td>\n",
              "      <td>0.0</td>\n",
              "      <td>0.0</td>\n",
              "      <td>0</td>\n",
              "    </tr>\n",
              "    <tr>\n",
              "      <th>396</th>\n",
              "      <td>42.0</td>\n",
              "      <td>70.0</td>\n",
              "      <td>75.0</td>\n",
              "      <td>0.0</td>\n",
              "      <td>0.0</td>\n",
              "      <td>0.0</td>\n",
              "      <td>0</td>\n",
              "    </tr>\n",
              "    <tr>\n",
              "      <th>397</th>\n",
              "      <td>12.0</td>\n",
              "      <td>80.0</td>\n",
              "      <td>100.0</td>\n",
              "      <td>0.0</td>\n",
              "      <td>0.0</td>\n",
              "      <td>0.0</td>\n",
              "      <td>0</td>\n",
              "    </tr>\n",
              "    <tr>\n",
              "      <th>398</th>\n",
              "      <td>17.0</td>\n",
              "      <td>60.0</td>\n",
              "      <td>114.0</td>\n",
              "      <td>0.0</td>\n",
              "      <td>0.0</td>\n",
              "      <td>0.0</td>\n",
              "      <td>0</td>\n",
              "    </tr>\n",
              "    <tr>\n",
              "      <th>399</th>\n",
              "      <td>58.0</td>\n",
              "      <td>80.0</td>\n",
              "      <td>131.0</td>\n",
              "      <td>0.0</td>\n",
              "      <td>0.0</td>\n",
              "      <td>0.0</td>\n",
              "      <td>0</td>\n",
              "    </tr>\n",
              "  </tbody>\n",
              "</table>\n",
              "<p>400 rows × 7 columns</p>\n",
              "</div>\n",
              "      <button class=\"colab-df-convert\" onclick=\"convertToInteractive('df-cb0f2f74-e0c7-419d-9c4d-1b28d84397c7')\"\n",
              "              title=\"Convert this dataframe to an interactive table.\"\n",
              "              style=\"display:none;\">\n",
              "        \n",
              "  <svg xmlns=\"http://www.w3.org/2000/svg\" height=\"24px\"viewBox=\"0 0 24 24\"\n",
              "       width=\"24px\">\n",
              "    <path d=\"M0 0h24v24H0V0z\" fill=\"none\"/>\n",
              "    <path d=\"M18.56 5.44l.94 2.06.94-2.06 2.06-.94-2.06-.94-.94-2.06-.94 2.06-2.06.94zm-11 1L8.5 8.5l.94-2.06 2.06-.94-2.06-.94L8.5 2.5l-.94 2.06-2.06.94zm10 10l.94 2.06.94-2.06 2.06-.94-2.06-.94-.94-2.06-.94 2.06-2.06.94z\"/><path d=\"M17.41 7.96l-1.37-1.37c-.4-.4-.92-.59-1.43-.59-.52 0-1.04.2-1.43.59L10.3 9.45l-7.72 7.72c-.78.78-.78 2.05 0 2.83L4 21.41c.39.39.9.59 1.41.59.51 0 1.02-.2 1.41-.59l7.78-7.78 2.81-2.81c.8-.78.8-2.07 0-2.86zM5.41 20L4 18.59l7.72-7.72 1.47 1.35L5.41 20z\"/>\n",
              "  </svg>\n",
              "      </button>\n",
              "      \n",
              "  <style>\n",
              "    .colab-df-container {\n",
              "      display:flex;\n",
              "      flex-wrap:wrap;\n",
              "      gap: 12px;\n",
              "    }\n",
              "\n",
              "    .colab-df-convert {\n",
              "      background-color: #E8F0FE;\n",
              "      border: none;\n",
              "      border-radius: 50%;\n",
              "      cursor: pointer;\n",
              "      display: none;\n",
              "      fill: #1967D2;\n",
              "      height: 32px;\n",
              "      padding: 0 0 0 0;\n",
              "      width: 32px;\n",
              "    }\n",
              "\n",
              "    .colab-df-convert:hover {\n",
              "      background-color: #E2EBFA;\n",
              "      box-shadow: 0px 1px 2px rgba(60, 64, 67, 0.3), 0px 1px 3px 1px rgba(60, 64, 67, 0.15);\n",
              "      fill: #174EA6;\n",
              "    }\n",
              "\n",
              "    [theme=dark] .colab-df-convert {\n",
              "      background-color: #3B4455;\n",
              "      fill: #D2E3FC;\n",
              "    }\n",
              "\n",
              "    [theme=dark] .colab-df-convert:hover {\n",
              "      background-color: #434B5C;\n",
              "      box-shadow: 0px 1px 3px 1px rgba(0, 0, 0, 0.15);\n",
              "      filter: drop-shadow(0px 1px 2px rgba(0, 0, 0, 0.3));\n",
              "      fill: #FFFFFF;\n",
              "    }\n",
              "  </style>\n",
              "\n",
              "      <script>\n",
              "        const buttonEl =\n",
              "          document.querySelector('#df-cb0f2f74-e0c7-419d-9c4d-1b28d84397c7 button.colab-df-convert');\n",
              "        buttonEl.style.display =\n",
              "          google.colab.kernel.accessAllowed ? 'block' : 'none';\n",
              "\n",
              "        async function convertToInteractive(key) {\n",
              "          const element = document.querySelector('#df-cb0f2f74-e0c7-419d-9c4d-1b28d84397c7');\n",
              "          const dataTable =\n",
              "            await google.colab.kernel.invokeFunction('convertToInteractive',\n",
              "                                                     [key], {});\n",
              "          if (!dataTable) return;\n",
              "\n",
              "          const docLinkHtml = 'Like what you see? Visit the ' +\n",
              "            '<a target=\"_blank\" href=https://colab.research.google.com/notebooks/data_table.ipynb>data table notebook</a>'\n",
              "            + ' to learn more about interactive tables.';\n",
              "          element.innerHTML = '';\n",
              "          dataTable['output_type'] = 'display_data';\n",
              "          await google.colab.output.renderOutput(dataTable, element);\n",
              "          const docLink = document.createElement('div');\n",
              "          docLink.innerHTML = docLinkHtml;\n",
              "          element.appendChild(docLink);\n",
              "        }\n",
              "      </script>\n",
              "    </div>\n",
              "  </div>\n",
              "  "
            ]
          },
          "metadata": {},
          "execution_count": 31
        }
      ],
      "source": [
        "import pandas as pd\n",
        "\n",
        "data = pd.read_csv('ChronicDisease.csv')\n",
        "\n",
        "data\n"
      ]
    },
    {
      "cell_type": "markdown",
      "source": [
        "### Visualisation des données par class"
      ],
      "metadata": {
        "id": "nzE771T5bDUP"
      }
    },
    {
      "cell_type": "code",
      "source": [
        "import seaborn as sns\n",
        "import matplotlib.pyplot as plt\n",
        "\n",
        "#sns.pairplot(data, hue ='Class')\n",
        "\n",
        "sns.catplot(x=\"Class\", y=\" Age\",data=data, hue='Class' ,height=4, aspect=.7 );"
      ],
      "metadata": {
        "colab": {
          "base_uri": "https://localhost:8080/"
        },
        "id": "9GXlhQKmj9Ox",
        "outputId": "f1315764-0f68-4d93-e330-873d8d64d8e5"
      },
      "execution_count": null,
      "outputs": [
        {
          "output_type": "display_data",
          "data": {
            "text/plain": [
              "<Figure size 201.6x288 with 1 Axes>"
            ],
            "image/png": "[encoded data removed]"
          },
          "metadata": {
            "needs_background": "light"
          }
        }
      ]
    },
    {
      "cell_type": "markdown",
      "source": [
        "# Définir le target et les features et les transformer en Array"
      ],
      "metadata": {
        "id": "LI_HOzczjT2N"
      }
    },
    {
      "cell_type": "code",
      "source": [
        "#prendre que column \"class\"\n",
        "\n",
        "Target_Y = data['Class']\n",
        "Target_Y"
      ],
      "metadata": {
        "colab": {
          "base_uri": "https://localhost:8080/"
        },
        "id": "iC1V36mxh5TQ",
        "outputId": "a4f1747c-eeea-4eac-9c18-fe62fc4791f0"
      },
      "execution_count": null,
      "outputs": [
        {
          "output_type": "execute_result",
          "data": {
            "text/plain": [
              "0      1\n",
              "1      1\n",
              "2      1\n",
              "3      1\n",
              "4      1\n",
              "      ..\n",
              "395    0\n",
              "396    0\n",
              "397    0\n",
              "398    0\n",
              "399    0\n",
              "Name: Class, Length: 400, dtype: int64"
            ]
          },
          "metadata": {},
          "execution_count": 33
        }
      ]
    },
    {
      "cell_type": "code",
      "source": [
        "#prendre toute les column sauf \"class\"\n",
        "\n",
        "feature_X=data.drop('Class', axis=1)\n",
        "feature_X"
      ],
      "metadata": {
        "colab": {
          "base_uri": "https://localhost:8080/"
        },
        "id": "jfvRePuwizlR",
        "outputId": "8ee8c2a7-f7b5-4dfc-9580-ad3d0658c6b7"
      },
      "execution_count": null,
      "outputs": [
        {
          "output_type": "execute_result",
          "data": {
            "text/plain": [
              "      Age  Blood Pressure  Blood Glucose Random  Hypertension  \\\n",
              "0    48.0            80.0                 121.0           1.0   \n",
              "1     7.0            50.0                   NaN           0.0   \n",
              "2    62.0            80.0                 423.0           0.0   \n",
              "3    48.0            70.0                 117.0           1.0   \n",
              "4    51.0            80.0                 106.0           0.0   \n",
              "..    ...             ...                   ...           ...   \n",
              "395  55.0            80.0                 140.0           0.0   \n",
              "396  42.0            70.0                  75.0           0.0   \n",
              "397  12.0            80.0                 100.0           0.0   \n",
              "398  17.0            60.0                 114.0           0.0   \n",
              "399  58.0            80.0                 131.0           0.0   \n",
              "\n",
              "     Diabetes Mellitus  Anemia  \n",
              "0                  1.0     0.0  \n",
              "1                  0.0     0.0  \n",
              "2                  1.0     1.0  \n",
              "3                  0.0     1.0  \n",
              "4                  0.0     0.0  \n",
              "..                 ...     ...  \n",
              "395                0.0     0.0  \n",
              "396                0.0     0.0  \n",
              "397                0.0     0.0  \n",
              "398                0.0     0.0  \n",
              "399                0.0     0.0  \n",
              "\n",
              "[400 rows x 6 columns]"
            ],
            "text/html": [
              "\n",
              "  <div id=\"df-2b6b606e-4dc9-46e5-aa9d-7087b945ecd1\">\n",
              "    <div class=\"colab-df-container\">\n",
              "      <div>\n",
              "<style scoped>\n",
              "    .dataframe tbody tr th:only-of-type {\n",
              "        vertical-align: middle;\n",
              "    }\n",
              "\n",
              "    .dataframe tbody tr th {\n",
              "        vertical-align: top;\n",
              "    }\n",
              "\n",
              "    .dataframe thead th {\n",
              "        text-align: right;\n",
              "    }\n",
              "</style>\n",
              "<table border=\"1\" class=\"dataframe\">\n",
              "  <thead>\n",
              "    <tr style=\"text-align: right;\">\n",
              "      <th></th>\n",
              "      <th>Age</th>\n",
              "      <th>Blood Pressure</th>\n",
              "      <th>Blood Glucose Random</th>\n",
              "      <th>Hypertension</th>\n",
              "      <th>Diabetes Mellitus</th>\n",
              "      <th>Anemia</th>\n",
              "    </tr>\n",
              "  </thead>\n",
              "  <tbody>\n",
              "    <tr>\n",
              "      <th>0</th>\n",
              "      <td>48.0</td>\n",
              "      <td>80.0</td>\n",
              "      <td>121.0</td>\n",
              "      <td>1.0</td>\n",
              "      <td>1.0</td>\n",
              "      <td>0.0</td>\n",
              "    </tr>\n",
              "    <tr>\n",
              "      <th>1</th>\n",
              "      <td>7.0</td>\n",
              "      <td>50.0</td>\n",
              "      <td>NaN</td>\n",
              "      <td>0.0</td>\n",
              "      <td>0.0</td>\n",
              "      <td>0.0</td>\n",
              "    </tr>\n",
              "    <tr>\n",
              "      <th>2</th>\n",
              "      <td>62.0</td>\n",
              "      <td>80.0</td>\n",
              "      <td>423.0</td>\n",
              "      <td>0.0</td>\n",
              "      <td>1.0</td>\n",
              "      <td>1.0</td>\n",
              "    </tr>\n",
              "    <tr>\n",
              "      <th>3</th>\n",
              "      <td>48.0</td>\n",
              "      <td>70.0</td>\n",
              "      <td>117.0</td>\n",
              "      <td>1.0</td>\n",
              "      <td>0.0</td>\n",
              "      <td>1.0</td>\n",
              "    </tr>\n",
              "    <tr>\n",
              "      <th>4</th>\n",
              "      <td>51.0</td>\n",
              "      <td>80.0</td>\n",
              "      <td>106.0</td>\n",
              "      <td>0.0</td>\n",
              "      <td>0.0</td>\n",
              "      <td>0.0</td>\n",
              "    </tr>\n",
              "    <tr>\n",
              "      <th>...</th>\n",
              "      <td>...</td>\n",
              "      <td>...</td>\n",
              "      <td>...</td>\n",
              "      <td>...</td>\n",
              "      <td>...</td>\n",
              "      <td>...</td>\n",
              "    </tr>\n",
              "    <tr>\n",
              "      <th>395</th>\n",
              "      <td>55.0</td>\n",
              "      <td>80.0</td>\n",
              "      <td>140.0</td>\n",
              "      <td>0.0</td>\n",
              "      <td>0.0</td>\n",
              "      <td>0.0</td>\n",
              "    </tr>\n",
              "    <tr>\n",
              "      <th>396</th>\n",
              "      <td>42.0</td>\n",
              "      <td>70.0</td>\n",
              "      <td>75.0</td>\n",
              "      <td>0.0</td>\n",
              "      <td>0.0</td>\n",
              "      <td>0.0</td>\n",
              "    </tr>\n",
              "    <tr>\n",
              "      <th>397</th>\n",
              "      <td>12.0</td>\n",
              "      <td>80.0</td>\n",
              "      <td>100.0</td>\n",
              "      <td>0.0</td>\n",
              "      <td>0.0</td>\n",
              "      <td>0.0</td>\n",
              "    </tr>\n",
              "    <tr>\n",
              "      <th>398</th>\n",
              "      <td>17.0</td>\n",
              "      <td>60.0</td>\n",
              "      <td>114.0</td>\n",
              "      <td>0.0</td>\n",
              "      <td>0.0</td>\n",
              "      <td>0.0</td>\n",
              "    </tr>\n",
              "    <tr>\n",
              "      <th>399</th>\n",
              "      <td>58.0</td>\n",
              "      <td>80.0</td>\n",
              "      <td>131.0</td>\n",
              "      <td>0.0</td>\n",
              "      <td>0.0</td>\n",
              "      <td>0.0</td>\n",
              "    </tr>\n",
              "  </tbody>\n",
              "</table>\n",
              "<p>400 rows × 6 columns</p>\n",
              "</div>\n",
              "      <button class=\"colab-df-convert\" onclick=\"convertToInteractive('df-2b6b606e-4dc9-46e5-aa9d-7087b945ecd1')\"\n",
              "              title=\"Convert this dataframe to an interactive table.\"\n",
              "              style=\"display:none;\">\n",
              "        \n",
              "  <svg xmlns=\"http://www.w3.org/2000/svg\" height=\"24px\"viewBox=\"0 0 24 24\"\n",
              "       width=\"24px\">\n",
              "    <path d=\"M0 0h24v24H0V0z\" fill=\"none\"/>\n",
              "    <path d=\"M18.56 5.44l.94 2.06.94-2.06 2.06-.94-2.06-.94-.94-2.06-.94 2.06-2.06.94zm-11 1L8.5 8.5l.94-2.06 2.06-.94-2.06-.94L8.5 2.5l-.94 2.06-2.06.94zm10 10l.94 2.06.94-2.06 2.06-.94-2.06-.94-.94-2.06-.94 2.06-2.06.94z\"/><path d=\"M17.41 7.96l-1.37-1.37c-.4-.4-.92-.59-1.43-.59-.52 0-1.04.2-1.43.59L10.3 9.45l-7.72 7.72c-.78.78-.78 2.05 0 2.83L4 21.41c.39.39.9.59 1.41.59.51 0 1.02-.2 1.41-.59l7.78-7.78 2.81-2.81c.8-.78.8-2.07 0-2.86zM5.41 20L4 18.59l7.72-7.72 1.47 1.35L5.41 20z\"/>\n",
              "  </svg>\n",
              "      </button>\n",
              "      \n",
              "  <style>\n",
              "    .colab-df-container {\n",
              "      display:flex;\n",
              "      flex-wrap:wrap;\n",
              "      gap: 12px;\n",
              "    }\n",
              "\n",
              "    .colab-df-convert {\n",
              "      background-color: #E8F0FE;\n",
              "      border: none;\n",
              "      border-radius: 50%;\n",
              "      cursor: pointer;\n",
              "      display: none;\n",
              "      fill: #1967D2;\n",
              "      height: 32px;\n",
              "      padding: 0 0 0 0;\n",
              "      width: 32px;\n",
              "    }\n",
              "\n",
              "    .colab-df-convert:hover {\n",
              "      background-color: #E2EBFA;\n",
              "      box-shadow: 0px 1px 2px rgba(60, 64, 67, 0.3), 0px 1px 3px 1px rgba(60, 64, 67, 0.15);\n",
              "      fill: #174EA6;\n",
              "    }\n",
              "\n",
              "    [theme=dark] .colab-df-convert {\n",
              "      background-color: #3B4455;\n",
              "      fill: #D2E3FC;\n",
              "    }\n",
              "\n",
              "    [theme=dark] .colab-df-convert:hover {\n",
              "      background-color: #434B5C;\n",
              "      box-shadow: 0px 1px 3px 1px rgba(0, 0, 0, 0.15);\n",
              "      filter: drop-shadow(0px 1px 2px rgba(0, 0, 0, 0.3));\n",
              "      fill: #FFFFFF;\n",
              "    }\n",
              "  </style>\n",
              "\n",
              "      <script>\n",
              "        const buttonEl =\n",
              "          document.querySelector('#df-2b6b606e-4dc9-46e5-aa9d-7087b945ecd1 button.colab-df-convert');\n",
              "        buttonEl.style.display =\n",
              "          google.colab.kernel.accessAllowed ? 'block' : 'none';\n",
              "\n",
              "        async function convertToInteractive(key) {\n",
              "          const element = document.querySelector('#df-2b6b606e-4dc9-46e5-aa9d-7087b945ecd1');\n",
              "          const dataTable =\n",
              "            await google.colab.kernel.invokeFunction('convertToInteractive',\n",
              "                                                     [key], {});\n",
              "          if (!dataTable) return;\n",
              "\n",
              "          const docLinkHtml = 'Like what you see? Visit the ' +\n",
              "            '<a target=\"_blank\" href=https://colab.research.google.com/notebooks/data_table.ipynb>data table notebook</a>'\n",
              "            + ' to learn more about interactive tables.';\n",
              "          element.innerHTML = '';\n",
              "          dataTable['output_type'] = 'display_data';\n",
              "          await google.colab.output.renderOutput(dataTable, element);\n",
              "          const docLink = document.createElement('div');\n",
              "          docLink.innerHTML = docLinkHtml;\n",
              "          element.appendChild(docLink);\n",
              "        }\n",
              "      </script>\n",
              "    </div>\n",
              "  </div>\n",
              "  "
            ]
          },
          "metadata": {},
          "execution_count": 34
        }
      ]
    },
    {
      "cell_type": "markdown",
      "source": [
        "# Transformer les donnes tableau en Array"
      ],
      "metadata": {
        "id": "EeN19VehVuAH"
      }
    },
    {
      "cell_type": "code",
      "source": [
        "import numpy as np\n",
        "\n",
        "dataArrayX = np.array(feature_X)\n",
        "print(dataArrayX)\n",
        "\n",
        "dataArrayX.shape\n"
      ],
      "metadata": {
        "colab": {
          "base_uri": "https://localhost:8080/"
        },
        "id": "5EUaFur0V2Xi",
        "outputId": "5f7603e5-ade7-4ac4-9a2b-dcd383955fc9"
      },
      "execution_count": null,
      "outputs": [
        {
          "output_type": "stream",
          "name": "stdout",
          "text": [
            "[[ 48.  80. 121.   1.   1.   0.]\n",
            " [  7.  50.  nan   0.   0.   0.]\n",
            " [ 62.  80. 423.   0.   1.   1.]\n",
            " ...\n",
            " [ 12.  80. 100.   0.   0.   0.]\n",
            " [ 17.  60. 114.   0.   0.   0.]\n",
            " [ 58.  80. 131.   0.   0.   0.]]\n"
          ]
        },
        {
          "output_type": "execute_result",
          "data": {
            "text/plain": [
              "(400, 6)"
            ]
          },
          "metadata": {},
          "execution_count": 35
        }
      ]
    },
    {
      "cell_type": "code",
      "source": [
        "dataArrayY = np.array(Target_Y)\n",
        "print(dataArrayY)\n",
        "\n",
        "dataArrayY.shape"
      ],
      "metadata": {
        "colab": {
          "base_uri": "https://localhost:8080/"
        },
        "id": "ttNDQmjrvCYm",
        "outputId": "5ebcf01f-1fc6-486e-ef92-a5c9d614f761"
      },
      "execution_count": null,
      "outputs": [
        {
          "output_type": "stream",
          "name": "stdout",
          "text": [
            "[1 1 1 1 1 1 1 1 1 1 1 1 1 1 1 1 1 1 1 1 1 1 1 1 1 1 1 1 1 1 1 1 1 1 1 1 1\n",
            " 1 1 1 1 1 1 1 1 1 1 1 1 1 1 1 1 1 1 1 1 1 1 1 1 1 1 1 1 1 1 1 1 1 1 1 1 1\n",
            " 1 1 1 1 1 1 1 1 1 1 1 1 1 1 1 1 1 1 1 1 1 1 1 1 1 1 1 1 1 1 1 1 1 1 1 1 1\n",
            " 1 1 1 1 1 1 1 1 1 1 1 1 1 1 1 1 1 1 1 1 1 1 1 1 1 1 1 1 1 1 1 1 1 1 1 1 1\n",
            " 1 1 1 1 1 1 1 1 1 1 1 1 1 1 1 1 1 1 1 1 1 1 1 1 1 1 1 1 1 1 1 1 1 1 1 1 1\n",
            " 1 1 1 1 1 1 1 1 1 1 1 1 1 1 1 1 1 1 1 1 1 1 1 1 1 1 1 1 1 1 1 1 1 1 1 1 1\n",
            " 1 1 1 1 1 1 1 1 1 1 1 1 1 1 1 1 1 1 1 1 1 1 1 1 1 1 1 1 0 0 0 0 0 0 0 0 0\n",
            " 0 0 0 0 0 0 0 0 0 0 0 0 0 0 0 0 0 0 0 0 0 0 0 0 0 0 0 0 0 0 0 0 0 0 0 0 0\n",
            " 0 0 0 0 0 0 0 0 0 0 0 0 0 0 0 0 0 0 0 0 0 0 0 0 0 0 0 0 0 0 0 0 0 0 0 0 0\n",
            " 0 0 0 0 0 0 0 0 0 0 0 0 0 0 0 0 0 0 0 0 0 0 0 0 0 0 0 0 0 0 0 0 0 0 0 0 0\n",
            " 0 0 0 0 0 0 0 0 0 0 0 0 0 0 0 0 0 0 0 0 0 0 0 0 0 0 0 0 0 0]\n"
          ]
        },
        {
          "output_type": "execute_result",
          "data": {
            "text/plain": [
              "(400,)"
            ]
          },
          "metadata": {},
          "execution_count": 36
        }
      ]
    },
    {
      "cell_type": "markdown",
      "source": [
        "# replacer les donnes NAN par -1 (nettoyage de données)"
      ],
      "metadata": {
        "id": "RQrGX1O0WZnE"
      }
    },
    {
      "cell_type": "code",
      "source": [
        "from sklearn.impute import SimpleImputer\n",
        "\n",
        "imputer = SimpleImputer(missing_values=np.nan, strategy='constant',fill_value=-1)\n",
        "\n",
        "dataArrayX = imputer.fit_transform(dataArrayX)\n",
        "dataArrayX"
      ],
      "metadata": {
        "colab": {
          "base_uri": "https://localhost:8080/"
        },
        "id": "0FCTTFuwWii9",
        "outputId": "aa096888-9cb7-4741-8180-ead8fd4ee0a7"
      },
      "execution_count": null,
      "outputs": [
        {
          "output_type": "execute_result",
          "data": {
            "text/plain": [
              "array([[ 48.,  80., 121.,   1.,   1.,   0.],\n",
              "       [  7.,  50.,  -1.,   0.,   0.,   0.],\n",
              "       [ 62.,  80., 423.,   0.,   1.,   1.],\n",
              "       ...,\n",
              "       [ 12.,  80., 100.,   0.,   0.,   0.],\n",
              "       [ 17.,  60., 114.,   0.,   0.,   0.],\n",
              "       [ 58.,  80., 131.,   0.,   0.,   0.]])"
            ]
          },
          "metadata": {},
          "execution_count": 37
        }
      ]
    },
    {
      "cell_type": "markdown",
      "source": [
        "#divisé les données en donnés train et donnés test"
      ],
      "metadata": {
        "id": "gms2i9MpP0O5"
      }
    },
    {
      "cell_type": "code",
      "source": [
        "from sklearn.model_selection import train_test_split\n",
        "\n",
        "X = dataArrayX\n",
        "Y = dataArrayY\n",
        "\n",
        "x_train,x_test,y_train,y_test=train_test_split(X,Y,test_size=0.2)"
      ],
      "metadata": {
        "id": "hBhA1jcdP720"
      },
      "execution_count": null,
      "outputs": []
    },
    {
      "cell_type": "markdown",
      "source": [
        "#**Classification**\n",
        "Puisque ce problimatique est un probleme de classification (classer les gens vers malade ou pas malade) donc nous allons utilisé les algorithme de classification :\n",
        "\n",
        "1-KNeighborsClassifier\n",
        "\n",
        "2-Naive Bayes\n",
        "\n",
        "3-Support Vector Machine\n",
        "\n",
        "4-DecisionTreeClassifier"
      ],
      "metadata": {
        "id": "AzZFIz9CeUhv"
      }
    },
    {
      "cell_type": "markdown",
      "source": [
        "# **KNeighborsClassifier**\n",
        "## choisir le bon parametre n_neighbors grace a la grid search"
      ],
      "metadata": {
        "id": "TvpoxlNOIsXV"
      }
    },
    {
      "cell_type": "code",
      "source": [
        "from sklearn.model_selection import GridSearchCV\n",
        "from sklearn.neighbors import KNeighborsClassifier\n",
        "\n",
        "model_test = KNeighborsClassifier()\n",
        "\n",
        "#k toute les valeur entre 1 et 60\n",
        "k=np.arange(1,60)\n",
        "\n",
        "param_grid = dict(n_neighbors=k)\n",
        "\n",
        "# definir les parametre\n",
        "grid = GridSearchCV(model_test, param_grid, cv=10, scoring='accuracy', return_train_score=False,verbose=1)\n",
        "\n",
        "# fitting the model for grid search (le modèle sera ajusté à chaque point de grille, en gardant la trace des scores au fur et à mesure)\n",
        "grid_search=grid.fit(x_train, y_train)\n",
        "\n",
        "#meilleur parametre de n_neighbors\n",
        "print(grid_search.best_params_)\n",
        "\n",
        "#meilleur score obtenu\n",
        "print(grid_search.best_score_)"
      ],
      "metadata": {
        "colab": {
          "base_uri": "https://localhost:8080/"
        },
        "id": "6-WU5LBLldk4",
        "outputId": "833c45a1-2a8d-4811-a87b-227ccf5aa528"
      },
      "execution_count": null,
      "outputs": [
        {
          "output_type": "stream",
          "name": "stdout",
          "text": [
            "Fitting 10 folds for each of 59 candidates, totalling 590 fits\n",
            "{'n_neighbors': 7}\n",
            "0.828125\n"
          ]
        }
      ]
    },
    {
      "cell_type": "markdown",
      "source": [
        "## creation du model a partir du resultat de la grid"
      ],
      "metadata": {
        "id": "S0lJippxQ5af"
      }
    },
    {
      "cell_type": "code",
      "source": [
        "from sklearn.model_selection import cross_val_score\n",
        "\n",
        "\n",
        "model_KNeighborsClassifier = grid_search.best_estimator_\n",
        "\n",
        "\n",
        "#entrainer le model\n",
        "model_KNeighborsClassifier.fit(x_train,y_train)\n",
        "\n",
        "#evaluer l'accurancy du model\n",
        "resultKN=cross_val_score(model_KNeighborsClassifier, x_train,y_train, cv=10)\n",
        "\n",
        "print(resultKN)\n",
        "\n",
        "#calculer la moyenne des 10 prediction\n",
        "resultKN=resultKN.mean()\n",
        "\n",
        "print(resultKN)\n"
      ],
      "metadata": {
        "colab": {
          "base_uri": "https://localhost:8080/"
        },
        "id": "wDz3huoGQ8js",
        "outputId": "6c917fbf-f92b-44bd-d12b-b9b54189c3d2"
      },
      "execution_count": null,
      "outputs": [
        {
          "output_type": "stream",
          "name": "stdout",
          "text": [
            "[0.84375 0.875   0.90625 0.75    0.84375 0.6875  0.8125  0.8125  0.875\n",
            " 0.875  ]\n",
            "0.828125\n"
          ]
        }
      ]
    },
    {
      "cell_type": "markdown",
      "source": [
        "## Validation curbe pour voir si on est dans le overfitting ou underfitting"
      ],
      "metadata": {
        "id": "aZnc-7aUp_ht"
      }
    },
    {
      "cell_type": "code",
      "source": [
        "from sklearn.model_selection import validation_curve\n",
        "\n",
        "\n",
        "train_scoresKN, valid_scoresKN = validation_curve(\n",
        "    model_test, x_train ,y_train, param_name=\"n_neighbors\", param_range=k,\n",
        "     cv=10)\n",
        "\n",
        "#dessiner le schémas pour mieux voir le resultat\n",
        "plt.plot(k,valid_scoresKN.mean(axis=1),label=\"validation\")\n",
        "plt.plot(k,train_scoresKN.mean(axis=1),label=\"train\")\n",
        "\n",
        "plt.ylabel('score')\n",
        "plt.xlabel('n_neighbors')\n",
        "plt.legend()\n"
      ],
      "metadata": {
        "id": "UwKwWqis-Vri",
        "colab": {
          "base_uri": "https://localhost:8080/"
        },
        "outputId": "e4bce7f4-db8d-4856-a5b8-67f122c45601"
      },
      "execution_count": null,
      "outputs": [
        {
          "output_type": "execute_result",
          "data": {
            "text/plain": [
              "<matplotlib.legend.Legend at 0x7f63ed2f2990>"
            ]
          },
          "metadata": {},
          "execution_count": 41
        },
        {
          "output_type": "display_data",
          "data": {
            "text/plain": [
              "<Figure size 432x288 with 1 Axes>"
            ],
            "image/png": "[encoded data removed]"
          },
          "metadata": {
            "needs_background": "light"
          }
        }
      ]
    },
    {
      "cell_type": "markdown",
      "source": [
        "## Learning curve\n",
        "pour voir si on recolte encore des données ou pas pour une meilleure performane du modele\n",
        "d'apres le schémas , le modele n'est pas encore stable (récolter plus de données sera utile dans ce cas)"
      ],
      "metadata": {
        "id": "5CaAb6drt8rd"
      }
    },
    {
      "cell_type": "code",
      "source": [
        "from sklearn.model_selection import learning_curve\n",
        "\n",
        "N,train_scoreKN, valid_scoreKN = learning_curve(\n",
        "    model_KNeighborsClassifier, x_train ,y_train,train_sizes = np.linspace(0.1,1.0,10),\n",
        "    cv=10)\n",
        "\n",
        "plt.plot(N,valid_scoreKN.mean(axis=1),label=\"validation\")\n",
        "plt.plot(N,train_scoreKN.mean(axis=1),label=\"train\")\n",
        "\n",
        "plt.ylabel('score')\n",
        "plt.xlabel('train size')\n",
        "plt.legend()"
      ],
      "metadata": {
        "colab": {
          "base_uri": "https://localhost:8080/"
        },
        "id": "xw8lDp0htdhO",
        "outputId": "3dd88ad2-3f73-4230-b86b-178ce2be01a0"
      },
      "execution_count": null,
      "outputs": [
        {
          "output_type": "execute_result",
          "data": {
            "text/plain": [
              "<matplotlib.legend.Legend at 0x7f63edfa5850>"
            ]
          },
          "metadata": {},
          "execution_count": 42
        },
        {
          "output_type": "display_data",
          "data": {
            "text/plain": [
              "<Figure size 432x288 with 1 Axes>"
            ],
            "image/png": "[encoded data removed]"
          },
          "metadata": {
            "needs_background": "light"
          }
        }
      ]
    },
    {
      "cell_type": "markdown",
      "source": [
        "# **Naive Bayes**"
      ],
      "metadata": {
        "id": "alHiyhe5O6cm"
      }
    },
    {
      "cell_type": "code",
      "source": [
        "from sklearn.naive_bayes import GaussianNB\n",
        "from sklearn.model_selection import cross_val_score\n",
        "\n",
        "model_NaiveBayes = GaussianNB()\n",
        "\n",
        "\n",
        "#entrainer le model\n",
        "model_NaiveBayes.fit(x_train,y_train)\n",
        "\n",
        "#evaluer l'accurancy du model\n",
        "resultNB=cross_val_score(model_NaiveBayes, x_train,y_train, cv=10)\n",
        "\n",
        "print(resultNB)\n",
        "\n",
        "#calculer la moyenne des 10 prediction\n",
        "resultNB=resultNB.mean()\n",
        "\n",
        "resultNB\n",
        "\n"
      ],
      "metadata": {
        "colab": {
          "base_uri": "https://localhost:8080/"
        },
        "id": "bSiqnxDcPIKS",
        "outputId": "52036212-f144-45ab-d307-30c312ee589a"
      },
      "execution_count": null,
      "outputs": [
        {
          "output_type": "stream",
          "name": "stdout",
          "text": [
            "[0.75    0.8125  0.84375 0.90625 0.9375  0.78125 0.8125  0.90625 0.84375\n",
            " 0.84375]\n"
          ]
        },
        {
          "output_type": "execute_result",
          "data": {
            "text/plain": [
              "0.84375"
            ]
          },
          "metadata": {},
          "execution_count": 43
        }
      ]
    },
    {
      "cell_type": "markdown",
      "source": [
        "##Learning curve\n",
        "\n",
        "d'apres le schémas , dans les 290 le modele commence a stabilisé (récolter plus de données sera aussi utile)"
      ],
      "metadata": {
        "id": "MvSFuOAWNHKx"
      }
    },
    {
      "cell_type": "code",
      "source": [
        "from sklearn.model_selection import learning_curve\n",
        "\n",
        "N,train_scoresNB, valid_scoresNB = learning_curve(\n",
        "    model_NaiveBayes, x_train ,y_train,train_sizes = np.linspace(0.1,1.0,10),\n",
        "    cv=10)\n",
        "\n",
        "plt.plot(N,valid_scoresNB.mean(axis=1),label=\"validation\")\n",
        "plt.plot(N,train_scoresNB.mean(axis=1),label=\"train\")\n",
        "\n",
        "plt.ylabel('score')\n",
        "plt.xlabel('train size')\n",
        "plt.legend()"
      ],
      "metadata": {
        "colab": {
          "base_uri": "https://localhost:8080/"
        },
        "id": "mshY_CbXLMFN",
        "outputId": "7f4f3d5f-45e0-40c8-8b22-6fccdc27ae62"
      },
      "execution_count": null,
      "outputs": [
        {
          "output_type": "execute_result",
          "data": {
            "text/plain": [
              "<matplotlib.legend.Legend at 0x7f63ed218d10>"
            ]
          },
          "metadata": {},
          "execution_count": 45
        },
        {
          "output_type": "display_data",
          "data": {
            "text/plain": [
              "<Figure size 432x288 with 1 Axes>"
            ],
            "image/png": "[encoded data removed]"
          },
          "metadata": {
            "needs_background": "light"
          }
        }
      ]
    },
    {
      "cell_type": "markdown",
      "source": [
        "#**Support Vector Machine**"
      ],
      "metadata": {
        "id": "jtjzhwA_4EYB"
      }
    },
    {
      "cell_type": "markdown",
      "source": [
        "##Choisir le bon parametre C et Gamma grace a la grid search"
      ],
      "metadata": {
        "id": "Xe_WWHaqZFhr"
      }
    },
    {
      "cell_type": "code",
      "source": [
        "from sklearn.svm import SVC # \"Support vector classifier\"\n",
        "from sklearn.pipeline import make_pipeline\n",
        "\n",
        "svc = SVC(kernel='rbf', class_weight='balanced')\n",
        "\n",
        "model_svm = make_pipeline(svc)\n",
        "\n",
        "param_grid = {'svc__C': [5, 10,15,20],\n",
        "              'svc__gamma': [0.0001, 0.0002,0.0005,0.001,0.002,0.003,0.004]}\n",
        "\n",
        "grid = GridSearchCV(model_svm, param_grid)\n",
        "\n",
        "grid.fit(x_train,y_train)\n",
        "\n",
        "print(grid.best_params_)\n",
        "\n",
        "print(grid.best_score_)\n",
        "\n"
      ],
      "metadata": {
        "id": "vW17KDwxIkrW",
        "colab": {
          "base_uri": "https://localhost:8080/"
        },
        "outputId": "b8881d1d-5308-4cde-d30a-098a76053dc3"
      },
      "execution_count": null,
      "outputs": [
        {
          "output_type": "stream",
          "name": "stdout",
          "text": [
            "{'svc__C': 10, 'svc__gamma': 0.002}\n",
            "0.815625\n"
          ]
        }
      ]
    },
    {
      "cell_type": "markdown",
      "source": [
        "##Creation du modele a partir de la grid"
      ],
      "metadata": {
        "id": "5orjDOVU4c39"
      }
    },
    {
      "cell_type": "code",
      "source": [
        "\n",
        "model_svm=grid.best_estimator_\n",
        "\n",
        "#entrainer le model\n",
        "model_svm.fit(x_train,y_train)\n",
        "\n",
        "#evaluer l'accurancy du model\n",
        "resultSVM=cross_val_score(model_svm, x_train,y_train, cv=10)\n",
        "\n",
        "print(resultSVM)\n",
        "\n",
        "#calculer la moyenne des 10 prediction\n",
        "resultSVM=resultSVM.mean()\n",
        "\n",
        "resultSVM\n"
      ],
      "metadata": {
        "colab": {
          "base_uri": "https://localhost:8080/"
        },
        "id": "UEDIypeDX7Pk",
        "outputId": "510ba841-fe48-4157-e2db-393f7d12bc9d"
      },
      "execution_count": null,
      "outputs": [
        {
          "output_type": "stream",
          "name": "stdout",
          "text": [
            "[0.8125  0.875   0.875   0.8125  0.75    0.65625 0.8125  0.84375 0.875\n",
            " 0.90625]\n"
          ]
        },
        {
          "output_type": "execute_result",
          "data": {
            "text/plain": [
              "0.821875"
            ]
          },
          "metadata": {},
          "execution_count": 47
        }
      ]
    },
    {
      "cell_type": "markdown",
      "source": [
        "##Validation curbe"
      ],
      "metadata": {
        "id": "ZnUpeDlre2hp"
      }
    },
    {
      "cell_type": "code",
      "source": [
        "#les valeur de gamma\n",
        "param_range =[0.0001, 0.0002,0.0005,0.001,0.002,0.003,0.004]\n",
        "\n",
        "#validation curbe\n",
        "train_scoresSVM, valid_scoresSVM = validation_curve(\n",
        "    SVC(), x_train ,y_train , param_name=\"gamma\", param_range=param_range,\n",
        "    cv=10)\n",
        "\n",
        "#dessiner le graphe\n",
        "plt.plot(param_range,valid_scoresSVM.mean(axis=1),label=\"validation\")\n",
        "plt.plot(param_range,train_scoresSVM.mean(axis=1),label=\"train\")\n",
        "\n",
        "plt.ylabel('score')\n",
        "plt.xlabel('gamma')\n",
        "plt.legend()"
      ],
      "metadata": {
        "colab": {
          "base_uri": "https://localhost:8080/"
        },
        "id": "1dyW1ff0PGit",
        "outputId": "bacf33e4-77b4-4336-d366-99a99e23f127"
      },
      "execution_count": null,
      "outputs": [
        {
          "output_type": "execute_result",
          "data": {
            "text/plain": [
              "<matplotlib.legend.Legend at 0x7f63ed1a4b50>"
            ]
          },
          "metadata": {},
          "execution_count": 48
        },
        {
          "output_type": "display_data",
          "data": {
            "text/plain": [
              "<Figure size 432x288 with 1 Axes>"
            ],
            "image/png": "[encoded data removed]"
          },
          "metadata": {
            "needs_background": "light"
          }
        }
      ]
    },
    {
      "cell_type": "markdown",
      "source": [
        "##Learning curve\n",
        "\n",
        "d'apres le schémas ,On a encore besoin de données pour stabilisé le modele (récolter plus de données sera utile)"
      ],
      "metadata": {
        "id": "JFiBtqL0MnE9"
      }
    },
    {
      "cell_type": "code",
      "source": [
        "\n",
        "N,train_scoreSVM, valid_scoreSVM = learning_curve(\n",
        "    model_svm, x_train ,y_train,train_sizes = np.linspace(0.1,1.0,10),\n",
        "    cv=10)\n",
        "\n",
        "plt.plot(N,valid_scoreSVM.mean(axis=1),label=\"validation\")\n",
        "plt.plot(N,train_scoreSVM.mean(axis=1),label=\"train\")\n",
        "\n",
        "plt.ylabel('score')\n",
        "plt.xlabel('train size')\n",
        "plt.legend()"
      ],
      "metadata": {
        "colab": {
          "base_uri": "https://localhost:8080/"
        },
        "id": "x61PRW1aL-Ke",
        "outputId": "72bbfb69-7f01-40bc-91d7-2eea807ed91c"
      },
      "execution_count": null,
      "outputs": [
        {
          "output_type": "execute_result",
          "data": {
            "text/plain": [
              "<matplotlib.legend.Legend at 0x7f63ed1317d0>"
            ]
          },
          "metadata": {},
          "execution_count": 49
        },
        {
          "output_type": "display_data",
          "data": {
            "text/plain": [
              "<Figure size 432x288 with 1 Axes>"
            ],
            "image/png": "[encoded data removed]"
          },
          "metadata": {
            "needs_background": "light"
          }
        }
      ]
    },
    {
      "cell_type": "markdown",
      "source": [
        "#**DecisionTreeClassifier (arbre de décision)**"
      ],
      "metadata": {
        "id": "dZH_DnQPl0fp"
      }
    },
    {
      "cell_type": "code",
      "source": [
        "from sklearn.tree import DecisionTreeClassifier\n",
        "\n",
        "tree = DecisionTreeClassifier()\n",
        "\n",
        "#entrainer le model\n",
        "tree.fit(x_train,y_train)\n",
        "\n",
        "#evaluer l'accurancy du model\n",
        "resultTREE=cross_val_score(tree, x_train,y_train, cv=10)\n",
        "\n",
        "print(resultTREE)\n",
        "\n",
        "#calculer la moyenne des 10 prediction\n",
        "resultTREE=resultTREE.mean()\n",
        "\n",
        "resultTREE"
      ],
      "metadata": {
        "colab": {
          "base_uri": "https://localhost:8080/"
        },
        "id": "9I_okSoLl1u5",
        "outputId": "62c91d77-57b1-4ecf-bc23-9a7331c21e83"
      },
      "execution_count": null,
      "outputs": [
        {
          "output_type": "stream",
          "name": "stdout",
          "text": [
            "[0.875   0.9375  0.9375  0.875   0.90625 0.8125  0.90625 0.875   0.90625\n",
            " 0.90625]\n"
          ]
        },
        {
          "output_type": "execute_result",
          "data": {
            "text/plain": [
              "0.89375"
            ]
          },
          "metadata": {},
          "execution_count": 50
        }
      ]
    },
    {
      "cell_type": "markdown",
      "source": [
        "##Validation curbe"
      ],
      "metadata": {
        "id": "PTT2TEPQpHFT"
      }
    },
    {
      "cell_type": "code",
      "source": [
        "# Les parametre de l'arbre\n",
        "param_range = np.arange(1, 50, 2)\n",
        "\n",
        "#validation curve\n",
        "train_scoresTree, valid_scoresTree = validation_curve(tree, x_train ,y_train,\n",
        "                                             param_name=\"max_depth\",\n",
        "                                             param_range=param_range,\n",
        "                                             cv=10)\n",
        "\n",
        "#dessiner le graphe\n",
        "plt.plot(param_range,valid_scoresTree.mean(axis=1),label=\"validation\")\n",
        "plt.plot(param_range,train_scoresTree.mean(axis=1),label=\"train\")\n",
        "\n",
        "plt.ylabel('score')\n",
        "plt.xlabel('tree depth')\n",
        "plt.legend()"
      ],
      "metadata": {
        "colab": {
          "base_uri": "https://localhost:8080/"
        },
        "id": "NV1kMiijpaVk",
        "outputId": "3c28f4c0-3922-4cb9-e565-c2a74468f80c"
      },
      "execution_count": null,
      "outputs": [
        {
          "output_type": "execute_result",
          "data": {
            "text/plain": [
              "<matplotlib.legend.Legend at 0x7f63ed0bffd0>"
            ]
          },
          "metadata": {},
          "execution_count": 51
        },
        {
          "output_type": "display_data",
          "data": {
            "text/plain": [
              "<Figure size 432x288 with 1 Axes>"
            ],
            "image/png": "[encoded data removed]"
          },
          "metadata": {
            "needs_background": "light"
          }
        }
      ]
    },
    {
      "cell_type": "markdown",
      "source": [
        "##Learning curve\n",
        "\n",
        "d'apres le schémas ,On a encore besoin de données pour stabilisé le modele (récolter plus de données sera utile)"
      ],
      "metadata": {
        "id": "wM4BdsF7tTM5"
      }
    },
    {
      "cell_type": "code",
      "source": [
        "N,train_scoreTree, valid_scoreTree = learning_curve(\n",
        "    tree, x_train ,y_train,train_sizes = np.linspace(0.1,1.0,10),\n",
        "    cv=10)\n",
        "\n",
        "plt.plot(N,valid_scoreTree.mean(axis=1),label=\"validation\")\n",
        "plt.plot(N,train_scoreTree.mean(axis=1),label=\"train\")\n",
        "\n",
        "plt.ylabel('score')\n",
        "plt.xlabel('train size')\n",
        "plt.legend()"
      ],
      "metadata": {
        "colab": {
          "base_uri": "https://localhost:8080/"
        },
        "id": "R5VoxB2vtWGE",
        "outputId": "955e471f-0164-4f1e-f8f3-09d8d0f80e10"
      },
      "execution_count": null,
      "outputs": [
        {
          "output_type": "execute_result",
          "data": {
            "text/plain": [
              "<matplotlib.legend.Legend at 0x7f63ed03f210>"
            ]
          },
          "metadata": {},
          "execution_count": 52
        },
        {
          "output_type": "display_data",
          "data": {
            "text/plain": [
              "<Figure size 432x288 with 1 Axes>"
            ],
            "image/png": "[encoded data removed]"
          },
          "metadata": {
            "needs_background": "light"
          }
        }
      ]
    },
    {
      "cell_type": "markdown",
      "source": [
        "# **Comparaison**"
      ],
      "metadata": {
        "id": "inV5GRruytlZ"
      }
    },
    {
      "cell_type": "code",
      "source": [
        "#methode 1\n",
        "\n",
        "from sklearn.metrics import precision_recall_fscore_support as score\n",
        "\n",
        "y_scoreKNN = model_KNeighborsClassifier.predict(x_test)\n",
        "\n",
        "precisionKNN, recallKNN, fscoreKNN, supportKNN = score(y_test, y_scoreKNN)\n",
        "\n",
        "print('***** K NEIGHBORS *****')\n",
        "\n",
        "print('precision: {}'.format(precisionKNN))\n",
        "print('recall: {}'.format(recallKNN))\n",
        "print('fscore: {}'.format(fscoreKNN))\n",
        "print('support: {}'.format(supportKNN))\n",
        "\n",
        "\n",
        "#********************************************\n",
        "\n",
        "\n",
        "y_scoreNaiveBayes = model_NaiveBayes.predict(x_test)\n",
        "\n",
        "precisionNaiveBayes, recallNaiveBayes, fscoreNaiveBayes, supportNaiveBayes = score(y_test, y_scoreNaiveBayes)\n",
        "\n",
        "print('\\n***** Naive Bayes *****')\n",
        "\n",
        "print('precision: {}'.format(precisionNaiveBayes))\n",
        "print('recall: {}'.format(recallNaiveBayes))\n",
        "print('fscore: {}'.format(fscoreNaiveBayes))\n",
        "print('support: {}'.format(supportNaiveBayes))\n",
        "\n",
        "#********************************************\n",
        "\n",
        "y_scoreSVM = model_svm.predict(x_test)\n",
        "\n",
        "precisionSVM, recallSVM, fscoreSVM, supportSVM = score(y_test, y_scoreSVM)\n",
        "\n",
        "print('\\n***** SVM *****')\n",
        "\n",
        "print('precision: {}'.format(precisionSVM))\n",
        "print('recall: {}'.format(recallSVM))\n",
        "print('fscore: {}'.format(fscoreSVM))\n",
        "print('support: {}'.format(supportSVM))\n",
        "\n",
        "#********************************************\n",
        "\n",
        "y_scoreTree = tree.predict(x_test)\n",
        "\n",
        "precisionTree, recallTree, fscoreTree, supportTree = score(y_test, y_scoreTree)\n",
        "\n",
        "print('\\n***** Decision Tree *****')\n",
        "\n",
        "print('precision: {}'.format(precisionTree))\n",
        "print('recall: {}'.format(recallTree))\n",
        "print('fscore: {}'.format(fscoreTree))\n",
        "print('support: {}'.format(supportTree))"
      ],
      "metadata": {
        "colab": {
          "base_uri": "https://localhost:8080/"
        },
        "id": "JJot6HZ2HpCj",
        "outputId": "525d6ae7-a980-4c81-9fe3-5d15a35ef895"
      },
      "execution_count": null,
      "outputs": [
        {
          "output_type": "stream",
          "name": "stdout",
          "text": [
            "***** K NEIGHBORS *****\n",
            "precision: [0.6969697  0.78723404]\n",
            "recall: [0.6969697  0.78723404]\n",
            "fscore: [0.6969697  0.78723404]\n",
            "support: [33 47]\n",
            "\n",
            "***** Naive Bayes *****\n",
            "precision: [0.8   0.975]\n",
            "recall: [0.96969697 0.82978723]\n",
            "fscore: [0.87671233 0.89655172]\n",
            "support: [33 47]\n",
            "\n",
            "***** SVM *****\n",
            "precision: [0.72727273 0.80851064]\n",
            "recall: [0.72727273 0.80851064]\n",
            "fscore: [0.72727273 0.80851064]\n",
            "support: [33 47]\n",
            "\n",
            "***** Decision Tree *****\n",
            "precision: [0.86666667 0.86      ]\n",
            "recall: [0.78787879 0.91489362]\n",
            "fscore: [0.82539683 0.88659794]\n",
            "support: [33 47]\n"
          ]
        }
      ]
    },
    {
      "cell_type": "code",
      "source": [
        "#methode 2\n",
        "from sklearn.metrics import classification_report\n",
        "\n",
        "print (\"classification_report KNN\\n\", classification_report(y_test, y_scoreKNN))\n",
        "print (\"\\n\\n\")\n",
        "print (\"classification_report NaiveBayes\\n\", classification_report(y_test, y_scoreNaiveBayes))\n",
        "print (\"\\n\\n\")\n",
        "print (\"classification_report SVM\\n\", classification_report(y_test, y_scoreSVM))\n",
        "print (\"\\n\\n\")\n",
        "print (\"classification_report Tree\\n\", classification_report(y_test, y_scoreTree))"
      ],
      "metadata": {
        "colab": {
          "base_uri": "https://localhost:8080/"
        },
        "id": "clUx3OpQLqLs",
        "outputId": "d1e00e30-e01e-4be0-ed6b-938017fb43ea"
      },
      "execution_count": null,
      "outputs": [
        {
          "output_type": "stream",
          "name": "stdout",
          "text": [
            "classification_report KNN\n",
            "               precision    recall  f1-score   support\n",
            "\n",
            "           0       0.70      0.70      0.70        33\n",
            "           1       0.79      0.79      0.79        47\n",
            "\n",
            "    accuracy                           0.75        80\n",
            "   macro avg       0.74      0.74      0.74        80\n",
            "weighted avg       0.75      0.75      0.75        80\n",
            "\n",
            "\n",
            "\n",
            "\n",
            "classification_report NaiveBayes\n",
            "               precision    recall  f1-score   support\n",
            "\n",
            "           0       0.80      0.97      0.88        33\n",
            "           1       0.97      0.83      0.90        47\n",
            "\n",
            "    accuracy                           0.89        80\n",
            "   macro avg       0.89      0.90      0.89        80\n",
            "weighted avg       0.90      0.89      0.89        80\n",
            "\n",
            "\n",
            "\n",
            "\n",
            "classification_report SVM\n",
            "               precision    recall  f1-score   support\n",
            "\n",
            "           0       0.73      0.73      0.73        33\n",
            "           1       0.81      0.81      0.81        47\n",
            "\n",
            "    accuracy                           0.78        80\n",
            "   macro avg       0.77      0.77      0.77        80\n",
            "weighted avg       0.78      0.78      0.78        80\n",
            "\n",
            "\n",
            "\n",
            "\n",
            "classification_report Tree\n",
            "               precision    recall  f1-score   support\n",
            "\n",
            "           0       0.87      0.79      0.83        33\n",
            "           1       0.86      0.91      0.89        47\n",
            "\n",
            "    accuracy                           0.86        80\n",
            "   macro avg       0.86      0.85      0.86        80\n",
            "weighted avg       0.86      0.86      0.86        80\n",
            "\n"
          ]
        }
      ]
    },
    {
      "cell_type": "markdown",
      "source": [
        "Conclusion : on remarque que les 2 modeles **Dessicion Tree et NaiveBayes** sont tres proches au niveau du résultats , ils sont les meilleures modeles pour notre probleme en 1er le **NAIVEBAYES** et on 2eme **DecisonTree**"
      ],
      "metadata": {
        "id": "DG16NPKSNW7R"
      }
    }
  ]
}